{
 "cells": [
  {
   "cell_type": "markdown",
   "metadata": {},
   "source": [
    "### Required Imports"
   ]
  },
  {
   "cell_type": "code",
   "execution_count": 6,
   "metadata": {},
   "outputs": [],
   "source": [
    "import sys, numpy as np\n",
    "sys.path.insert(0, 'core/')\n",
    "from utils import custom_loss\n",
    "from keras.models import load_model\n",
    "import os\n",
    "import nibabel as nib\n",
    "from tkinter import Tk\n",
    "from tkinter.filedialog import askdirectory\n",
    "Tk().withdraw() #hide the tk root window"
   ]
  },
  {
   "cell_type": "markdown",
   "metadata": {},
   "source": [
    "### Set Path for the Trained CNN"
   ]
  },
  {
   "cell_type": "code",
   "execution_count": 2,
   "metadata": {},
   "outputs": [],
   "source": [
    "# user specify data directory\n",
    "# print('Select directory containing the phantom data, log file, and acqtime file')\n",
    "mainpath = askdirectory(title = 'Path to Phantom Data')"
   ]
  },
  {
   "cell_type": "code",
   "execution_count": 19,
   "metadata": {},
   "outputs": [],
   "source": [
    "trained_cnn = mainpath + '/CNN Trained'"
   ]
  },
  {
   "cell_type": "markdown",
   "metadata": {},
   "source": [
    "### Import Data to be Cleaned"
   ]
  },
  {
   "cell_type": "code",
   "execution_count": 29,
   "metadata": {},
   "outputs": [],
   "source": [
    "data_path = mainpath + '/epi/epi_bias.nii' # Data to be cleaned in a numpy array of the shape Voxels * TimePoints. Data should have zero-mean.\n",
    "stack_scn = np(datapath) #this is not working and not fixed yet"
   ]
  },
  {
   "cell_type": "markdown",
   "metadata": {},
   "source": [
    "### Denoising"
   ]
  },
  {
   "cell_type": "markdown",
   "metadata": {},
   "source": [
    "Assuming 600 timepoints in a scan."
   ]
  },
  {
   "cell_type": "code",
   "execution_count": 30,
   "metadata": {},
   "outputs": [
    {
     "ename": "ValueError",
     "evalue": "cannot reshape array of size 5644800 into shape (800,600,1)",
     "output_type": "error",
     "traceback": [
      "\u001b[0;31m---------------------------------------------------------------------------\u001b[0m",
      "\u001b[0;31mValueError\u001b[0m                                Traceback (most recent call last)",
      "Input \u001b[0;32mIn [30]\u001b[0m, in \u001b[0;36m<cell line: 2>\u001b[0;34m()\u001b[0m\n\u001b[1;32m      1\u001b[0m savedmodel\u001b[38;5;241m=\u001b[39m load_model(trained_cnn\u001b[38;5;241m+\u001b[39m\u001b[38;5;124m'\u001b[39m\u001b[38;5;124m/save_ml.h5\u001b[39m\u001b[38;5;124m'\u001b[39m,custom_objects\u001b[38;5;241m=\u001b[39m{\u001b[38;5;124m'\u001b[39m\u001b[38;5;124mcustom_loss\u001b[39m\u001b[38;5;124m'\u001b[39m: custom_loss})\n\u001b[0;32m----> 2\u001b[0m results \u001b[38;5;241m=\u001b[39m savedmodel\u001b[38;5;241m.\u001b[39mpredict(\u001b[43m(\u001b[49m\u001b[43mstack_scn\u001b[49m\u001b[38;5;241;43m/\u001b[39;49m\u001b[43mnp\u001b[49m\u001b[38;5;241;43m.\u001b[39;49m\u001b[43mstd\u001b[49m\u001b[43m(\u001b[49m\u001b[43mstack_scn\u001b[49m\u001b[43m,\u001b[49m\u001b[43maxis\u001b[49m\u001b[38;5;241;43m=\u001b[39;49m\u001b[38;5;241;43m1\u001b[39;49m\u001b[43m)\u001b[49m\u001b[43m[\u001b[49m\u001b[43m:\u001b[49m\u001b[43m,\u001b[49m\u001b[38;5;28;43;01mNone\u001b[39;49;00m\u001b[43m]\u001b[49m\u001b[43m)\u001b[49m\u001b[38;5;241;43m.\u001b[39;49m\u001b[43mreshape\u001b[49m\u001b[43m(\u001b[49m\u001b[43m(\u001b[49m\u001b[38;5;28;43mlen\u001b[39;49m\u001b[43m(\u001b[49m\u001b[43mstack_scn\u001b[49m\u001b[43m)\u001b[49m\u001b[43m,\u001b[49m\u001b[38;5;241;43m600\u001b[39;49m\u001b[43m,\u001b[49m\u001b[38;5;241;43m1\u001b[39;49m\u001b[43m)\u001b[49m\u001b[43m)\u001b[49m)\u001b[38;5;241m.\u001b[39mreshape((\u001b[38;5;28mlen\u001b[39m(stack_scn),\u001b[38;5;241m600\u001b[39m))\n",
      "\u001b[0;31mValueError\u001b[0m: cannot reshape array of size 5644800 into shape (800,600,1)"
     ]
    }
   ],
   "source": [
    "savedmodel= load_model(trained_cnn+'/save_ml.h5',custom_objects={'custom_loss': custom_loss})\n",
    "results = savedmodel.predict((stack_scn/np.std(stack_scn,axis=1)[:,None]).reshape((len(stack_scn),600,1))).reshape((len(stack_scn),600))"
   ]
  },
  {
   "cell_type": "code",
   "execution_count": null,
   "metadata": {},
   "outputs": [],
   "source": []
  }
 ],
 "metadata": {
  "kernelspec": {
   "display_name": "Python 3 (ipykernel)",
   "language": "python",
   "name": "python3"
  },
  "language_info": {
   "codemirror_mode": {
    "name": "ipython",
    "version": 3
   },
   "file_extension": ".py",
   "mimetype": "text/x-python",
   "name": "python",
   "nbconvert_exporter": "python",
   "pygments_lexer": "ipython3",
   "version": "3.9.13"
  }
 },
 "nbformat": 4,
 "nbformat_minor": 4
}
