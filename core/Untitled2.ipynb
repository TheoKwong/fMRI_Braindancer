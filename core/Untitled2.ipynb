{
 "cells": [
  {
   "cell_type": "code",
   "execution_count": 1,
   "id": "17f732d8-4539-4f1f-96dd-21db6dec3ce5",
   "metadata": {},
   "outputs": [],
   "source": [
    "from skimage import filters \n",
    "\n"
   ]
  },
  {
   "cell_type": "code",
   "execution_count": 2,
   "id": "4a3e6feb-9a7c-4ca9-80b3-445b7003da53",
   "metadata": {},
   "outputs": [],
   "source": [
    "filts = {}"
   ]
  },
  {
   "cell_type": "code",
   "execution_count": 4,
   "id": "f841e66b-cdad-49c8-9841-9e3755c82a24",
   "metadata": {},
   "outputs": [],
   "source": []
  },
  {
   "cell_type": "code",
   "execution_count": 5,
   "id": "e8f3f0b3-01e1-48cd-ab3d-9f6fb6aee619",
   "metadata": {},
   "outputs": [
    {
     "data": {
      "text/plain": [
       "<function skimage.filters.edges.sobel(image, mask=None, *, axis=None, mode='reflect', cval=0.0)>"
      ]
     },
     "execution_count": 5,
     "metadata": {},
     "output_type": "execute_result"
    }
   ],
   "source": [
    "filts['sobel']"
   ]
  },
  {
   "cell_type": "code",
   "execution_count": null,
   "id": "24eb5757-148a-4a78-9d50-9809fbcc7d78",
   "metadata": {},
   "outputs": [],
   "source": []
  }
 ],
 "metadata": {
  "kernelspec": {
   "display_name": "Python 3 (ipykernel)",
   "language": "python",
   "name": "python3"
  },
  "language_info": {
   "codemirror_mode": {
    "name": "ipython",
    "version": 3
   },
   "file_extension": ".py",
   "mimetype": "text/x-python",
   "name": "python",
   "nbconvert_exporter": "python",
   "pygments_lexer": "ipython3",
   "version": "3.9.13"
  }
 },
 "nbformat": 4,
 "nbformat_minor": 5
}
